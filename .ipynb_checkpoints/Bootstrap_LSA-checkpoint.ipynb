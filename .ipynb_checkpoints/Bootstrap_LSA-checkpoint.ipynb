{
  "cells": [
    {
      "cell_type": "code",
      "execution_count": 1,
      "metadata": {
        "id": "P-o5HDUgRj5t"
      },
      "outputs": [],
      "source": [
        "import numpy as np\n",
        "import copy\n",
        "from multiprocessing import Pool\n",
        "import multiprocessing\n",
        "from scipy import stats\n",
        "from scipy.stats import norm\n",
        "import matplotlib.pyplot as plt\n",
        "import pickle\n",
        "from tqdm import tqdm\n",
        "%matplotlib inline"
      ]
    },
    {
      "cell_type": "code",
      "execution_count": 2,
      "metadata": {
        "id": "pxaawyU9Rj5v"
      },
      "outputs": [],
      "source": [
        "def init_pi(N_a,N_s):\n",
        "    \"\"\"\n",
        "    function to generate policy,\n",
        "    inputs:\n",
        "        N_a - number of actions;\n",
        "        N_s - number of states;\n",
        "    outputs:\n",
        "        pi(a|s) - np.array of shape N_a x N_s\n",
        "    \"\"\"\n",
        "    np.random.seed(1453)\n",
        "    Pi_matr = np.random.uniform(0.0,1.0,(N_a,N_s))\n",
        "    norm_coef = Pi_matr.sum(axis=0)\n",
        "    Pi_matr = Pi_matr / norm_coef.reshape((1,N_s))\n",
        "    #check if stochastic\n",
        "    #print(Pi_matr.sum(axis=0))\n",
        "    return Pi_matr\n"
      ]
    },
    {
      "cell_type": "code",
      "execution_count": 3,
      "metadata": {
        "id": "1ukemIBcRj5v"
      },
      "outputs": [],
      "source": [
        "def generate_dynamics(N_a,N_s,b):\n",
        "    \"\"\"\n",
        "    function to generate transition probabilities,\n",
        "    inputs:\n",
        "        N_a - number of actions;\n",
        "        N_s - number of states;\n",
        "        b - branching number\n",
        "    outputs:\n",
        "        pi(s'|s,a) - np.array of shape N_s x N_s x N_a\n",
        "    \"\"\"\n",
        "    np.random.seed(1812)\n",
        "    inds_nonzero = np.zeros((N_s,N_a,b),dtype = int)\n",
        "    for i in range(N_s):\n",
        "        for j in range(N_a):\n",
        "            inds_nonzero[i,j] = np.random.choice(N_s, size=b, replace=False)\n",
        "    Pi_matr = np.zeros((N_s,N_s,N_a),dtype=float)\n",
        "    for i in range(N_s):\n",
        "        for j in range(N_a):\n",
        "            Pi_matr[inds_nonzero[i,j],i,j] = np.random.uniform(0.0,1.0,b)\n",
        "    norm_coef = Pi_matr.sum(axis=0)\n",
        "    Pi_matr = Pi_matr / norm_coef.reshape((1,N_s,N_a))\n",
        "    return Pi_matr,inds_nonzero"
      ]
    },
    {
      "cell_type": "code",
      "execution_count": 4,
      "metadata": {
        "id": "I-facbpMRj5w"
      },
      "outputs": [],
      "source": [
        "def state_transitions(P,pi):\n",
        "    \"\"\"\n",
        "    function to generate transition probabilities,\n",
        "    inputs:\n",
        "        P(s'|s,a) - np.array of shape N_s x N_s x N_a, transition probabilities;\n",
        "        pi(a|s) - np.array of shape N_a x N_s, policy;\n",
        "    outputs:\n",
        "        p(s'|s) - transition probability matrix of shape (N_s,N_s)\n",
        "    \"\"\"\n",
        "    np.random.seed(1812)\n",
        "    P_s = np.zeros((N_s,N_s),dtype = float)\n",
        "    for i in range(N_s):\n",
        "        for j in range(N_s):\n",
        "            P_s[i,j] = np.dot(P[i,j,:],pi[:,j])\n",
        "    return P_s"
      ]
    },
    {
      "cell_type": "code",
      "execution_count": 5,
      "metadata": {
        "id": "V4LIbKMyRj5w"
      },
      "outputs": [],
      "source": [
        "def init_rewards(N_a,N_s):\n",
        "    \"\"\"\n",
        "    function to generate rewards,\n",
        "    inputs:\n",
        "        N_a - number of actions;\n",
        "        N_s - number of states;\n",
        "    outputs:\n",
        "        R(a,s) - np.array of rewards (shape N_a x N_s)\n",
        "    \"\"\"\n",
        "    np.random.seed(1821)\n",
        "    R = Pi_matr = np.random.uniform(0.0,1.0,(N_a,N_s))\n",
        "    return R"
      ]
    },
    {
      "cell_type": "code",
      "source": [
        "def init_phi(N_s, d):\n",
        "    np.random.seed(0)\n",
        "    proj = np.random.normal(0, 1, size=(N_s, d))\n",
        "    proj /= np.linalg.norm(proj, axis=1, keepdims=True)\n",
        "    # proj = np.eye(d)\n",
        "    return proj"
      ],
      "metadata": {
        "id": "1GOMg_eHcixg"
      },
      "execution_count": 6,
      "outputs": []
    },
    {
      "cell_type": "code",
      "execution_count": 7,
      "metadata": {
        "id": "Z2S2QWXGRj5w"
      },
      "outputs": [],
      "source": [
        "#global constants\n",
        "#number of actions\n",
        "N_a = 2\n",
        "#number of states\n",
        "N_s = 6\n",
        "d = 2\n",
        "#gamma = 0.99\n",
        "gamma = 0.8\n",
        "#branching factor (external parameter for Garnet)\n",
        "branch = 3"
      ]
    },
    {
      "cell_type": "code",
      "execution_count": 8,
      "metadata": {
        "id": "Fy9F8FQ3Rj5x"
      },
      "outputs": [],
      "source": [
        "#init policy matrix\n",
        "Policy = init_pi(N_a,N_s)\n",
        "#init transition matrix\n",
        "P,Inds_nz = generate_dynamics(N_a,N_s,branch)\n",
        "#init rewards\n",
        "R = init_rewards(N_a,N_s)\n",
        "#init state transition matrix\n",
        "S_trans = state_transitions(P,Policy)\n",
        "Phi = init_phi(N_s, d)"
      ]
    },
    {
      "cell_type": "code",
      "source": [
        "#note that in my notations they are usual (right) eigenvalues\n",
        "eigvals, eigfuncs = np.linalg.eig(S_trans)\n",
        "print(eigvals)\n",
        "pi_states = -np.real(eigfuncs[:,0])\n",
        "pi_states = pi_states/np.sum(pi_states)\n",
        "#pi_states - statinary distribution over states\n",
        "print(pi_states)\n",
        "print(np.sum(pi_states))"
      ],
      "metadata": {
        "colab": {
          "base_uri": "https://localhost:8080/"
        },
        "id": "NwhpDgoD6P52",
        "outputId": "6748cd56-e0ef-489a-c542-9843de844540"
      },
      "execution_count": 9,
      "outputs": [
        {
          "output_type": "stream",
          "name": "stdout",
          "text": [
            "[ 1.        +0.j          0.30723815+0.j         -0.16429717+0.23434908j\n",
            " -0.16429717-0.23434908j -0.04004862+0.j         -0.34556952+0.j        ]\n",
            "[0.21666696 0.25417359 0.16947847 0.09184485 0.15379045 0.11404568]\n",
            "1.0\n"
          ]
        }
      ]
    },
    {
      "cell_type": "code",
      "source": [
        "# def compute_LSTD_matrices(phi, mu, P, pi, R, gamma):\n",
        "#     N_s, d = phi.shape\n",
        "#     N_a = pi.shape[0]\n",
        "\n",
        "#     A_bar = np.zeros((d, d))\n",
        "#     b_bar = np.zeros((d,))\n",
        "\n",
        "#     for s in range(N_s):\n",
        "#         phi_s = phi[s]\n",
        "#         for a in range(N_a):\n",
        "#             pi_a_s = pi[a, s]\n",
        "#             if pi_a_s == 0:\n",
        "#                 continue\n",
        "#             r_sa = R[a, s]\n",
        "#             for sp in range(N_s):\n",
        "#                 p_sp = P[sp, s, a]\n",
        "#                 if p_sp == 0:\n",
        "#                     continue\n",
        "#                 phi_sp = phi[sp]\n",
        "#                 A_bar += mu[s] * pi_a_s * p_sp * np.outer(phi_s, (phi_s - gamma * phi_sp))\n",
        "#             b_bar += mu[s] * pi_a_s * phi_s * r_sa\n",
        "\n",
        "#     return A_bar, b_bar\n",
        "\n",
        "def compute_LSTD_from_triplets(Z_list, mu_Z, Phi, R, gamma):\n",
        "    d = Phi.shape[1]\n",
        "    A_bar = np.zeros((d, d))\n",
        "    b_bar = np.zeros((d,))\n",
        "\n",
        "    for idx, (s, a, sp) in enumerate(Z_list):\n",
        "        phi_s = Phi[s]\n",
        "        phi_sp = Phi[sp]\n",
        "        weight = mu_Z[idx]\n",
        "        r_sa = R[a, s]\n",
        "\n",
        "        A_bar += weight * np.outer(phi_s, phi_s - gamma * phi_sp)\n",
        "        b_bar += weight * phi_s * r_sa\n",
        "\n",
        "    return A_bar, b_bar"
      ],
      "metadata": {
        "id": "kiq1ohln5_F3"
      },
      "execution_count": 10,
      "outputs": []
    },
    {
      "cell_type": "markdown",
      "metadata": {
        "id": "HcYhmPAaRj5x"
      },
      "source": [
        "### Solve system to find $\\theta^*$ (i.e. true $V_{\\pi}(s)$)"
      ]
    },
    {
      "cell_type": "markdown",
      "metadata": {
        "id": "CbRm8zaDRj5z"
      },
      "source": [
        "### Find stationary distribution over state space"
      ]
    },
    {
      "cell_type": "code",
      "source": [
        "from scipy.linalg import eig\n",
        "def build_Z_space(N_s, N_a, P):\n",
        "    Z_list = []\n",
        "    Z_index = {}\n",
        "    idx = 0\n",
        "    for s in range(N_s):\n",
        "        for a in range(N_a):\n",
        "            for sp in range(N_s):\n",
        "                if P[sp, s, a] > 0:\n",
        "                    Z_list.append((s, a, sp))\n",
        "                    Z_index[(s, a, sp)] = idx\n",
        "                    idx += 1\n",
        "    return Z_list, Z_index\n",
        "\n",
        "def build_P_Z(Z_list, Z_index, Policy, P):\n",
        "    size = len(Z_list)\n",
        "    PZ = np.zeros((size, size))\n",
        "    for i, (s, a, sp) in enumerate(Z_list):\n",
        "        for a_next in range(Policy.shape[0]):\n",
        "            for spp in range(P.shape[0]):\n",
        "                prob = Policy[a_next, sp] * P[spp, sp, a_next]\n",
        "                if (sp, a_next, spp) in Z_index:\n",
        "                    j = Z_index[(sp, a_next, spp)]\n",
        "                    PZ[j, i] += prob\n",
        "    return PZ\n",
        "\n",
        "def stationary_distribution(PZ):\n",
        "    vals, vecs = eig(PZ)\n",
        "    stat = -np.real(vecs[:,0])\n",
        "    stat = stat / stat.sum()\n",
        "    return stat\n",
        "\n",
        "def compute_epsilons(Z_list, R, gamma):\n",
        "    # Eps = []\n",
        "    # for s, a, sp in Z_list:\n",
        "    #     eps = np.zeros(N_s,dtype=float)\n",
        "    #     eps[s] = R[a,s] + gamma*theta_star[sp]-theta_star[s]\n",
        "    #     Eps.append(eps)\n",
        "    d = Phi.shape[1]\n",
        "    Eps = []\n",
        "    for s, a, sp in Z_list:\n",
        "      phi_s = Phi[s]\n",
        "      phi_sp = Phi[sp]\n",
        "      A = np.outer(phi_s, phi_s - gamma * phi_sp)\n",
        "      b = phi_s * R[a, s]\n",
        "      eps = A @ theta_star - b\n",
        "      # Добавим небольшой случайный шум\n",
        "      Eps.append(eps)\n",
        "\n",
        "    return np.array(Eps)"
      ],
      "metadata": {
        "id": "DaV7smlyNW4J"
      },
      "execution_count": 11,
      "outputs": []
    },
    {
      "cell_type": "code",
      "source": [
        "Z_list, Z_index = build_Z_space(N_s, N_a, P)\n",
        "PZ =  build_P_Z(Z_list, Z_index, Policy, P)\n",
        "stat = stationary_distribution(PZ)"
      ],
      "metadata": {
        "id": "BJaJkrYiNZP9"
      },
      "execution_count": 12,
      "outputs": []
    },
    {
      "cell_type": "code",
      "source": [
        "A_bar, b_bar = compute_LSTD_from_triplets(Z_list, stat, Phi, R, gamma)"
      ],
      "metadata": {
        "id": "Q5T-YNRtgVeg"
      },
      "execution_count": 13,
      "outputs": []
    },
    {
      "cell_type": "code",
      "source": [
        "A = np.eye(N_s) - gamma*(S_trans.T)\n",
        "#right hand side\n",
        "b = np.sum(Policy*R,axis=0)\n",
        "theta_star_old = np.linalg.inv(A) @ b"
      ],
      "metadata": {
        "id": "BfKOeW0CbDyH"
      },
      "execution_count": 14,
      "outputs": []
    },
    {
      "cell_type": "code",
      "source": [
        "theta_star_old"
      ],
      "metadata": {
        "colab": {
          "base_uri": "https://localhost:8080/"
        },
        "id": "HqTEooI3bIEI",
        "outputId": "c49b06fa-6793-4d97-9a82-2dfe177cfe7f"
      },
      "execution_count": 15,
      "outputs": [
        {
          "output_type": "execute_result",
          "data": {
            "text/plain": [
              "array([2.72204396, 3.03229477, 2.64980089, 2.65572886, 2.7114465 ,\n",
              "       2.63507883])"
            ]
          },
          "metadata": {},
          "execution_count": 15
        }
      ]
    },
    {
      "cell_type": "code",
      "source": [
        "theta_star = np.linalg.inv(A_bar) @ b_bar"
      ],
      "metadata": {
        "id": "08iRcAt5QLJ5"
      },
      "execution_count": 16,
      "outputs": []
    },
    {
      "cell_type": "code",
      "source": [
        "theta_star"
      ],
      "metadata": {
        "colab": {
          "base_uri": "https://localhost:8080/"
        },
        "id": "XPM8MPXJbKh6",
        "outputId": "d686aeb3-28bf-41cd-89a3-418102c6000f"
      },
      "execution_count": 17,
      "outputs": [
        {
          "output_type": "execute_result",
          "data": {
            "text/plain": [
              "array([2.19729719, 1.90502569])"
            ]
          },
          "metadata": {},
          "execution_count": 17
        }
      ]
    },
    {
      "cell_type": "code",
      "source": [
        "Eps = compute_epsilons(Z_list, R, gamma)"
      ],
      "metadata": {
        "id": "ZfrMkJaGQGV9"
      },
      "execution_count": 18,
      "outputs": []
    },
    {
      "cell_type": "code",
      "source": [
        "kek = np.random.uniform(0,1,stat.shape[0])\n",
        "kek = kek/kek.sum()\n",
        "lol = PZ.copy()\n",
        "for l in range(20):\n",
        "  print(np.linalg.norm(lol @ kek - stat))\n",
        "  lol = lol @ PZ\n",
        "print(np.linalg.norm(lol @ stat -stat))"
      ],
      "metadata": {
        "colab": {
          "base_uri": "https://localhost:8080/"
        },
        "id": "BMlkEO7qY9RF",
        "outputId": "9e88ee1c-6500-4a93-d5c5-b981e647e16b"
      },
      "execution_count": 19,
      "outputs": [
        {
          "output_type": "stream",
          "name": "stdout",
          "text": [
            "0.05354185737645998\n",
            "0.016810273751651592\n",
            "0.007634247383434066\n",
            "0.0018119449575816605\n",
            "0.000836743244658623\n",
            "0.000200063090078785\n",
            "8.396629788927189e-05\n",
            "2.134578617297097e-05\n",
            "9.50327859548468e-06\n",
            "2.5546485531676946e-06\n",
            "1.1110180161803337e-06\n",
            "3.043285030981474e-07\n",
            "1.2359592048917348e-07\n",
            "3.5353410219541627e-08\n",
            "1.4204894951874582e-08\n",
            "4.270584758421975e-09\n",
            "1.6831757253689561e-09\n",
            "5.169942603029139e-10\n",
            "1.9640566444040626e-10\n",
            "6.156514774610062e-11\n",
            "1.638477373765091e-16\n"
          ]
        }
      ]
    },
    {
      "cell_type": "code",
      "source": [
        "from numpy.linalg import eigvals\n",
        "\n",
        "vals = eigvals(PZ)\n",
        "gap = np.sort(np.abs(vals))[-2]  # второе по модулю\n",
        "print(\"Spectral gap:\", 1.0 - gap)"
      ],
      "metadata": {
        "colab": {
          "base_uri": "https://localhost:8080/"
        },
        "id": "zaXlbuNF-6wW",
        "outputId": "4440586c-d68e-449e-80a1-a27e07ed6e09"
      },
      "execution_count": 20,
      "outputs": [
        {
          "output_type": "stream",
          "name": "stdout",
          "text": [
            "Spectral gap: 0.6544304829765903\n"
          ]
        }
      ]
    },
    {
      "cell_type": "code",
      "source": [
        "def compute_covariance(Eps, mu, PZ, max_lag=100, tol=1e-10):\n",
        "    # Eps: (n, d)\n",
        "    # mu:  (n,)\n",
        "    # PZ:  (n, n)\n",
        "\n",
        "    Sigma = (Eps * mu[:, None]).T @ Eps  # (d, d) — E[eps_0 eps_0^T]\n",
        "\n",
        "    current_PZ = PZ.copy()\n",
        "    for lag in tqdm(range(1, max_lag + 1), desc=\"Lags\"):\n",
        "        Eps_lag = current_PZ.T @ Eps             # (n, d) — eps_lag(i) = E[eps(Z_lag) | Z_0 = i]\n",
        "        cross = (Eps * mu[:, None]).T @ Eps_lag  # (d, d) — E[eps_0 eps_lag^T]\n",
        "        Sigma += 2 * cross\n",
        "        current_PZ = current_PZ @ PZ\n",
        "        print(np.trace(np.abs(cross)))\n",
        "        # if np.trace(np.abs(cross)) < tol:\n",
        "        #     break\n",
        "\n",
        "    return Sigma"
      ],
      "metadata": {
        "id": "3lJeX8YrOblJ"
      },
      "execution_count": 21,
      "outputs": []
    },
    {
      "cell_type": "code",
      "source": [
        "Sigma_eps_mc = compute_covariance(Eps, stat, PZ, max_lag=30, tol=1e-4)"
      ],
      "metadata": {
        "colab": {
          "base_uri": "https://localhost:8080/"
        },
        "id": "h2oMYmOYOiuH",
        "outputId": "92aff709-ddbd-4420-9ba1-34bf2fd47822"
      },
      "execution_count": 22,
      "outputs": [
        {
          "output_type": "stream",
          "name": "stderr",
          "text": [
            "Lags: 100%|██████████| 30/30 [00:00<00:00, 15526.79it/s]"
          ]
        },
        {
          "output_type": "stream",
          "name": "stdout",
          "text": [
            "0.09555051558892945\n",
            "0.011095395037538576\n",
            "0.009451560920836096\n",
            "0.002490980125592984\n",
            "0.0008289130538266842\n",
            "0.0002960847364097501\n",
            "0.00012202896686319882\n",
            "1.3825639040024921e-05\n",
            "4.305314161186056e-06\n",
            "1.604780625583592e-06\n",
            "8.346859042843254e-07\n",
            "2.949774866739154e-07\n",
            "1.4138494041360347e-07\n",
            "3.2661730088218976e-08\n",
            "1.15277908490409e-08\n",
            "2.6875314843864334e-09\n",
            "1.3132529376353037e-09\n",
            "4.312867398666736e-10\n",
            "1.885003207313444e-10\n",
            "5.587632913434178e-11\n",
            "2.0429894242384183e-11\n",
            "5.914362976230439e-12\n",
            "2.273838458091047e-12\n",
            "7.406586655088223e-13\n",
            "2.8819507464512175e-13\n",
            "9.363284178231808e-14\n",
            "3.397909390292395e-14\n",
            "1.0855259889772569e-14\n",
            "3.913726732147525e-15\n",
            "1.2925440443841861e-15\n"
          ]
        },
        {
          "output_type": "stream",
          "name": "stderr",
          "text": [
            "\n"
          ]
        }
      ]
    },
    {
      "cell_type": "code",
      "source": [
        "print(Sigma_eps_mc)"
      ],
      "metadata": {
        "colab": {
          "base_uri": "https://localhost:8080/"
        },
        "id": "_lUXwVHgn2S6",
        "outputId": "55a9cec3-ecf1-4cab-d6f0-e9643dbec862"
      },
      "execution_count": 23,
      "outputs": [
        {
          "output_type": "stream",
          "name": "stdout",
          "text": [
            "[[ 0.1456808  -0.04910376]\n",
            " [-0.22012603  0.24819059]]\n"
          ]
        }
      ]
    },
    {
      "cell_type": "code",
      "source": [
        "Sigma_eps_mc.shape"
      ],
      "metadata": {
        "colab": {
          "base_uri": "https://localhost:8080/"
        },
        "id": "n-9Zt5x-nZO4",
        "outputId": "498871cc-b2ef-4be6-efc8-95fd78678dd2"
      },
      "execution_count": 24,
      "outputs": [
        {
          "output_type": "execute_result",
          "data": {
            "text/plain": [
              "(2, 2)"
            ]
          },
          "metadata": {},
          "execution_count": 24
        }
      ]
    },
    {
      "cell_type": "code",
      "source": [
        "Sigma_inf = np.linalg.inv(A_bar) @Sigma_eps_mc @ (np.linalg.inv(A_bar).T)"
      ],
      "metadata": {
        "id": "b1Kiv6TuO7UJ"
      },
      "execution_count": 25,
      "outputs": []
    },
    {
      "cell_type": "markdown",
      "metadata": {
        "id": "ar3ckLK2Rj5z"
      },
      "source": [
        "### Find $\\theta^*$ by another approach"
      ]
    },
    {
      "cell_type": "markdown",
      "metadata": {
        "id": "OvQ0aV2fRj50"
      },
      "source": [
        "#### Check quality of normal approximation"
      ]
    },
    {
      "cell_type": "code",
      "execution_count": 26,
      "metadata": {
        "id": "zfzh69EURj50"
      },
      "outputs": [],
      "source": [
        "#Run TD(0) algorithm\n",
        "N_iters = 10*10**6\n",
        "v0 = 5*np.ones(N_s,dtype=float)\n",
        "s0 = np.random.choice(N_s)\n",
        "#step size\n",
        "c0 = 200.0\n",
        "k0 = 20000.0\n",
        "step = 0.65\n",
        "alpha = np.zeros(N_iters,dtype=float)\n",
        "for i in range(N_iters):\n",
        "    alpha[i] = c0/((i+k0)**step)"
      ]
    },
    {
      "cell_type": "code",
      "source": [
        "alpha"
      ],
      "metadata": {
        "colab": {
          "base_uri": "https://localhost:8080/"
        },
        "id": "Ph0KdMDy3f7B",
        "outputId": "bd5a6894-5735-4ab2-bf10-e104fc214fea"
      },
      "execution_count": 27,
      "outputs": [
        {
          "output_type": "execute_result",
          "data": {
            "text/plain": [
              "array([0.32015515, 0.32014475, 0.32013435, ..., 0.00562945, 0.00562945,\n",
              "       0.00562945])"
            ]
          },
          "metadata": {},
          "execution_count": 27
        }
      ]
    },
    {
      "cell_type": "code",
      "source": [
        "Z_array = np.array(Z_list)"
      ],
      "metadata": {
        "id": "skPdsbg8TNGZ"
      },
      "execution_count": 28,
      "outputs": []
    },
    {
      "cell_type": "code",
      "source": [
        "from tqdm import tqdm\n",
        "def check_independent_last(seed, alpha, N_traj, n_iters):\n",
        "    N_max = 1000\n",
        "    d = Phi.shape[1]\n",
        "    np.random.seed(seed)\n",
        "\n",
        "    n_loops = N_traj // N_max\n",
        "    PR_theta = np.zeros((N_traj, n_iters, d), dtype=float)\n",
        "\n",
        "    for i in range(n_loops):\n",
        "        # Инициализация θ₀ (N_max, d)\n",
        "        theta = np.ones((N_max, d), dtype=float)\n",
        "        # Случайный выбор индексов с вероятностями stat, размер N_max\n",
        "        idx = np.random.choice(len(Z_list), N_max, replace=True, p=stat)\n",
        "\n",
        "        for N in tqdm(range(n_iters)):\n",
        "            # Распаковываем переходы в отдельные списки\n",
        "            s0_batch = Z_array[idx, 0].astype(int)\n",
        "            a_batch = Z_array[idx, 1].astype(int)\n",
        "            s_batch = Z_array[idx, 2].astype(int)\n",
        "\n",
        "            # Фичи\n",
        "            phi_s = Phi[s0_batch]       # (N_max, d)\n",
        "            phi_sp = Phi[s_batch]       # (N_max, d)\n",
        "            r = R[a_batch, s0_batch]     # (N_max,)\n",
        "\n",
        "            # Вычисление A_k и b_k\n",
        "            A_k = np.einsum('ni,nj->nij', phi_s, phi_s - gamma * phi_sp)  # (N_max, d, d)\n",
        "            b_k = phi_s * r[:, None]                                      # (N_max, d)\n",
        "\n",
        "            # Вычисление A_k θ_{k-1}\n",
        "            A_theta = np.einsum('nij,nj->ni', A_k, theta)  # (N_max, d)\n",
        "\n",
        "            # Обновление: θ_k = θ_{k-1} - α_k (A_k θ_{k-1} - b_k)\n",
        "            theta = theta - alpha[N] * (A_theta - b_k)\n",
        "\n",
        "            # Сохраняем результаты в общий массив\n",
        "            PR_theta[i * N_max:(i + 1) * N_max, N, :] = theta\n",
        "\n",
        "            # Обновляем индексы для следующей итерации\n",
        "            # Важно: PZ - должна быть матрицей вероятностей перехода, shape (len(Z_list), len(Z_list))\n",
        "            # Индексы выбираем для каждого из N_max по отдельности\n",
        "            probs = PZ[:, idx].T                      # (N_max, n_samples)\n",
        "            cumsum = np.cumsum(probs, axis=1)         # (N_max, n_samples)\n",
        "            rand_vals = np.random.rand(N_max, 1)      # (N_max, 1)\n",
        "            idx = (rand_vals < cumsum).argmax(axis=1)\n",
        "\n",
        "    return PR_theta"
      ],
      "metadata": {
        "id": "UpJ_GbtF9JZd"
      },
      "execution_count": 29,
      "outputs": []
    },
    {
      "cell_type": "code",
      "execution_count": 30,
      "metadata": {
        "colab": {
          "base_uri": "https://localhost:8080/"
        },
        "id": "0hRRYl-qRj51",
        "outputId": "da1beb05-da75-4e5e-b43b-83585ee13183"
      },
      "outputs": [
        {
          "output_type": "stream",
          "name": "stderr",
          "text": [
            "100%|██████████| 1024000/1024000 [09:03<00:00, 1885.56it/s]\n"
          ]
        }
      ],
      "source": [
        "seed = 2024\n",
        "N_traj = int(1000)\n",
        "#number of iterations\n",
        "N_iters = [200,400,800,1600,3200,6400,12800,25600,51200,102400,204800,409600,819200]\n",
        "N_iters = 1024000\n",
        "PR_V = check_independent_last(seed,alpha,N_traj,N_iters)"
      ]
    },
    {
      "cell_type": "code",
      "source": [
        "hatV = PR_V.mean(axis=1)"
      ],
      "metadata": {
        "id": "ADs4t77dhiG9"
      },
      "execution_count": 31,
      "outputs": []
    },
    {
      "cell_type": "code",
      "source": [
        "np.linalg.norm(hatV[0]-theta_star)"
      ],
      "metadata": {
        "colab": {
          "base_uri": "https://localhost:8080/"
        },
        "id": "-EtLW7c0_HTi",
        "outputId": "1984025a-d53f-46ef-db52-ebe2c6cfd6a7"
      },
      "execution_count": 32,
      "outputs": [
        {
          "output_type": "execute_result",
          "data": {
            "text/plain": [
              "np.float64(0.0028676268029474363)"
            ]
          },
          "metadata": {},
          "execution_count": 32
        }
      ]
    },
    {
      "cell_type": "code",
      "source": [
        "plt.plot(np.linalg.norm(PR_V[0][10000:,:]-theta_star, axis=1))"
      ],
      "metadata": {
        "colab": {
          "base_uri": "https://localhost:8080/",
          "height": 465
        },
        "id": "xSvYyt-lCUGB",
        "outputId": "13fbb4f2-79e5-41aa-8635-aba42e5953f0"
      },
      "execution_count": 33,
      "outputs": [
        {
          "output_type": "execute_result",
          "data": {
            "text/plain": [
              "[<matplotlib.lines.Line2D at 0x7f7a0f5562d0>]"
            ]
          },
          "metadata": {},
          "execution_count": 33
        },
        {
          "output_type": "display_data",
          "data": {
            "text/plain": [
              "<Figure size 640x480 with 1 Axes>"
            ],
            "image/png": "[encoded data removed]"
          },
          "metadata": {}
        }
      ]
    },
    {
      "cell_type": "code",
      "source": [
        "np.linalg.norm(hatV[-3]-theta_star)"
      ],
      "metadata": {
        "colab": {
          "base_uri": "https://localhost:8080/"
        },
        "id": "U8ZPyVH9_AMZ",
        "outputId": "4d8b4d0a-5d84-4816-fef0-d5781f546804"
      },
      "execution_count": 34,
      "outputs": [
        {
          "output_type": "execute_result",
          "data": {
            "text/plain": [
              "np.float64(0.0024532578528625353)"
            ]
          },
          "metadata": {},
          "execution_count": 34
        }
      ]
    },
    {
      "cell_type": "code",
      "source": [
        "def batch_mean(PR_V, b_n, N_traj,N_iters):\n",
        "    \"\"\"\n",
        "    Compute the mean over sliding windows of size b_n along the 2nd axis (iterations),\n",
        "    in a memory-efficient way.\n",
        "\n",
        "    Parameters:\n",
        "        PR_V : np.ndarray, shape (N_traj, N_iters, N_s)\n",
        "        b_n : int, batch window size\n",
        "\n",
        "    Returns:\n",
        "        BM_V : np.ndarray, shape (N_traj, N_iters - b_n + 1, N_s)\n",
        "    \"\"\"\n",
        "    N_traj, N_iters, N_s = PR_V.shape\n",
        "    BM_V = np.empty((N_traj, N_iters - b_n+1, N_s), dtype=PR_V.dtype)\n",
        "\n",
        "    # for i in tqdm(range(N_iters - b_n + 1), desc=\"Computing batch means\"):\n",
        "    #     BM_V[:, i, :] = PR_V[:, i:i + b_n, :].mean(axis=1)\n",
        "    cur_bm = PR_V[:,0:b_n,:].mean(axis=1)\n",
        "    for i in tqdm(range(N_iters-b_n), desc=\"Computing batch means\"):\n",
        "        BM_V[:, i, :] = cur_bm\n",
        "        cur_bm += (PR_V[:, b_n+i,:]-PR_V[:, i,:])/b_n\n",
        "    BM_V[:, -1, :]=cur_bm\n",
        "    return BM_V"
      ],
      "metadata": {
        "id": "5yBiCBHuiYJf"
      },
      "execution_count": 38,
      "outputs": []
    },
    {
      "cell_type": "code",
      "source": [
        "from scipy.stats import norm\n",
        "np.random.seed(2024)\n",
        "#generate random direction\n",
        "U = np.random.randn(d)\n",
        "u = U/np.linalg.norm(U)\n",
        "sigma_u = u.T @ Sigma_inf @ u\n",
        "cov_ints = []\n",
        "cov_true_ints = []\n",
        "dist_cov = []\n",
        "stddevs = []\n",
        "for b_n in [3600]:\n",
        "  b_n = int(b_n)\n",
        "  BM_V = batch_mean(PR_V, b_n, N_traj, N_iters)\n",
        "  cov_int = 0\n",
        "  cov_true_int = 0\n",
        "  dist_cov_i = []\n",
        "  sum_s = 0\n",
        "  for i in tqdm(range(N_traj)):\n",
        "    hat_sigma =  (((BM_V[i]-hatV[i])@u)**2).sum() * ((b_n)/(N_iters-b_n+1))\n",
        "    dist_cov_i.append(np.abs(hat_sigma-sigma_u))\n",
        "    (a, b) = norm.interval(confidence=0.8, loc=hatV[i]@u, scale=np.sqrt(hat_sigma)/np.sqrt(N_iters))\n",
        "    if (theta_star@u <= b) & (theta_star@u >= a):\n",
        "      cov_int += 1\n",
        "    (a, b) = norm.interval(confidence=0.8, loc=hatV[i]@u, scale=np.sqrt(sigma_u)/np.sqrt(N_iters))\n",
        "    if (theta_star@u <= b) & (theta_star@u >= a):\n",
        "      cov_true_int += 1\n",
        "    sum_s += np.sqrt(hat_sigma)/np.sqrt(N_iters)\n",
        "  cov_ints.append(cov_int/N_traj)\n",
        "  cov_true_ints.append(cov_true_int/N_traj)\n",
        "  dist_cov.append(np.array(dist_cov_i))\n",
        "  stddevs.append(sum_s/N_traj)\n",
        "  print('N_iters=', N_iters, \"b_n=\", b_n, \"est_cov_int=\", cov_ints[-1], \"assymp_cov_int=\", cov_true_ints[-1], \"dist_sigmas=\", np.array(dist_cov_i).sum()/N_traj, \"stddevs=\", stddevs[-1])"
      ],
      "metadata": {
        "colab": {
          "base_uri": "https://localhost:8080/"
        },
        "id": "KZNktb5gNqZ5",
        "outputId": "f85ed30a-818d-4574-ba71-d68843c35a15"
      },
      "execution_count": 43,
      "outputs": [
        {
          "output_type": "stream",
          "name": "stderr",
          "text": [
            "Computing batch means: 100%|██████████| 1020400/1020400 [02:06<00:00, 8087.15it/s]\n",
            "100%|██████████| 1000/1000 [00:19<00:00, 50.14it/s]"
          ]
        },
        {
          "output_type": "stream",
          "name": "stdout",
          "text": [
            "N_iters= 1024000 b_n= 3600 est_cov_int= 0.769 assymp_cov_int= 0.788 dist_sigmas= 0.1743316039773523 stddevs= 0.0015620114311491959\n"
          ]
        },
        {
          "output_type": "stream",
          "name": "stderr",
          "text": [
            "\n"
          ]
        }
      ]
    },
    {
      "cell_type": "code",
      "source": [
        "N_iters = 204800\n",
        "PR_V = PR_V[:, :204800, :]\n",
        "hatV = PR_V.mean(axis=1)"
      ],
      "metadata": {
        "id": "SVvnExPqfhCt"
      },
      "execution_count": 44,
      "outputs": []
    },
    {
      "cell_type": "code",
      "source": [
        "from scipy.stats import norm\n",
        "np.random.seed(2024)\n",
        "#generate random direction\n",
        "U = np.random.randn(d)\n",
        "u = U/np.linalg.norm(U)\n",
        "sigma_u = u.T @ Sigma_inf @ u\n",
        "cov_ints = []\n",
        "cov_true_ints = []\n",
        "dist_cov = []\n",
        "stddevs = []\n",
        "# N_iters = 204800\n",
        "# PR_V = PR_V[:, :204800, :]\n",
        "# hatV = PR_V.mean(axis=1)\n",
        "for b_n in [1200]:\n",
        "  b_n = int(b_n)\n",
        "  BM_V = batch_mean(PR_V, b_n, N_traj, N_iters)\n",
        "  cov_int = 0\n",
        "  cov_true_int = 0\n",
        "  dist_cov_i = []\n",
        "  sum_s = 0\n",
        "  for i in tqdm(range(N_traj)):\n",
        "    hat_sigma =  (((BM_V[i]-hatV[i])@u)**2).sum() * ((b_n)/(N_iters-b_n+1))\n",
        "    dist_cov_i.append(np.abs(hat_sigma-sigma_u))\n",
        "    (a, b) = norm.interval(confidence=0.95, loc=hatV[i]@u, scale=np.sqrt(hat_sigma)/np.sqrt(N_iters))\n",
        "    if (theta_star@u <= b) & (theta_star@u >= a):\n",
        "      cov_int += 1\n",
        "    (a, b) = norm.interval(confidence=0.95, loc=hatV[i]@u, scale=np.sqrt(sigma_u)/np.sqrt(N_iters))\n",
        "    if (theta_star@u <= b) & (theta_star@u >= a):\n",
        "      cov_true_int += 1\n",
        "    sum_s += np.sqrt(hat_sigma)/np.sqrt(N_iters)\n",
        "  cov_ints.append(cov_int/N_traj)\n",
        "  cov_true_ints.append(cov_true_int/N_traj)\n",
        "  dist_cov.append(np.array(dist_cov_i))\n",
        "  stddevs.append(sum_s/N_traj)\n",
        "  print('N_iters=', N_iters, \"b_n=\", b_n, \"est_cov_int=\", cov_ints[-1], \"assymp_cov_int=\", cov_true_ints[-1], \"dist_sigmas=\", np.array(dist_cov_i).sum()/N_traj, \"stddevs=\", stddevs[-1])"
      ],
      "metadata": {
        "colab": {
          "base_uri": "https://localhost:8080/"
        },
        "id": "qKw5da-8eaoW",
        "outputId": "a42ac3b1-0e92-4a6c-922a-b7cabbe75795"
      },
      "execution_count": 46,
      "outputs": [
        {
          "output_type": "stream",
          "name": "stderr",
          "text": [
            "Computing batch means: 100%|██████████| 203600/203600 [00:23<00:00, 8729.39it/s]\n",
            "100%|██████████| 1000/1000 [00:02<00:00, 337.67it/s]"
          ]
        },
        {
          "output_type": "stream",
          "name": "stdout",
          "text": [
            "N_iters= 204800 b_n= 1200 est_cov_int= 0.935 assymp_cov_int= 0.945 dist_sigmas= 0.21109081400558596 stddevs= 0.003492620887483266\n"
          ]
        },
        {
          "output_type": "stream",
          "name": "stderr",
          "text": [
            "\n"
          ]
        }
      ]
    },
    {
      "cell_type": "code",
      "execution_count": 46,
      "metadata": {
        "colab": {
          "base_uri": "https://localhost:8080/"
        },
        "id": "12YVnxvzRj51",
        "outputId": "2ff461a8-97c8-4069-ec66-5e3a2ac8d724"
      },
      "outputs": [
        {
          "output_type": "stream",
          "name": "stderr",
          "text": [
            "Computing batch means: 100%|██████████| 204000/204000 [00:26<00:00, 7560.13it/s]\n",
            "100%|██████████| 1000/1000 [00:03<00:00, 289.83it/s]\n"
          ]
        },
        {
          "output_type": "stream",
          "name": "stdout",
          "text": [
            "N_iters= 204800 b_n= 800 est_cov_int= 0.932 assymp_cov_int= 0.945 dist_sigmas= 0.2267062788143713\n"
          ]
        },
        {
          "output_type": "stream",
          "name": "stderr",
          "text": [
            "Computing batch means: 100%|██████████| 203958/203958 [00:26<00:00, 7798.51it/s]\n",
            "100%|██████████| 1000/1000 [00:03<00:00, 285.61it/s]\n"
          ]
        },
        {
          "output_type": "stream",
          "name": "stdout",
          "text": [
            "N_iters= 204800 b_n= 842 est_cov_int= 0.932 assymp_cov_int= 0.945 dist_sigmas= 0.22160519893359695\n"
          ]
        },
        {
          "output_type": "stream",
          "name": "stderr",
          "text": [
            "Computing batch means: 100%|██████████| 203915/203915 [00:25<00:00, 7922.09it/s]\n",
            "100%|██████████| 1000/1000 [00:03<00:00, 280.46it/s]\n"
          ]
        },
        {
          "output_type": "stream",
          "name": "stdout",
          "text": [
            "N_iters= 204800 b_n= 885 est_cov_int= 0.932 assymp_cov_int= 0.945 dist_sigmas= 0.217776156625792\n"
          ]
        },
        {
          "output_type": "stream",
          "name": "stderr",
          "text": [
            "Computing batch means: 100%|██████████| 203872/203872 [00:26<00:00, 7759.37it/s]\n",
            "100%|██████████| 1000/1000 [00:03<00:00, 279.39it/s]\n"
          ]
        },
        {
          "output_type": "stream",
          "name": "stdout",
          "text": [
            "N_iters= 204800 b_n= 928 est_cov_int= 0.932 assymp_cov_int= 0.945 dist_sigmas= 0.21501092319670245\n"
          ]
        },
        {
          "output_type": "stream",
          "name": "stderr",
          "text": [
            "Computing batch means: 100%|██████████| 203829/203829 [00:25<00:00, 7918.30it/s]\n",
            "100%|██████████| 1000/1000 [00:03<00:00, 279.65it/s]\n"
          ]
        },
        {
          "output_type": "stream",
          "name": "stdout",
          "text": [
            "N_iters= 204800 b_n= 971 est_cov_int= 0.932 assymp_cov_int= 0.945 dist_sigmas= 0.2131935539125616\n"
          ]
        },
        {
          "output_type": "stream",
          "name": "stderr",
          "text": [
            "Computing batch means: 100%|██████████| 203786/203786 [00:26<00:00, 7570.63it/s]\n",
            "100%|██████████| 1000/1000 [00:03<00:00, 291.45it/s]\n"
          ]
        },
        {
          "output_type": "stream",
          "name": "stdout",
          "text": [
            "N_iters= 204800 b_n= 1014 est_cov_int= 0.933 assymp_cov_int= 0.945 dist_sigmas= 0.21195919973019364\n"
          ]
        },
        {
          "output_type": "stream",
          "name": "stderr",
          "text": [
            "Computing batch means: 100%|██████████| 203743/203743 [00:25<00:00, 7887.45it/s]\n",
            "100%|██████████| 1000/1000 [00:03<00:00, 289.65it/s]\n"
          ]
        },
        {
          "output_type": "stream",
          "name": "stdout",
          "text": [
            "N_iters= 204800 b_n= 1057 est_cov_int= 0.934 assymp_cov_int= 0.945 dist_sigmas= 0.21106469089307495\n"
          ]
        },
        {
          "output_type": "stream",
          "name": "stderr",
          "text": [
            "Computing batch means: 100%|██████████| 203700/203700 [00:26<00:00, 7781.41it/s]\n",
            "100%|██████████| 1000/1000 [00:03<00:00, 293.75it/s]\n"
          ]
        },
        {
          "output_type": "stream",
          "name": "stdout",
          "text": [
            "N_iters= 204800 b_n= 1100 est_cov_int= 0.935 assymp_cov_int= 0.945 dist_sigmas= 0.21053862908973697\n"
          ]
        },
        {
          "output_type": "stream",
          "name": "stderr",
          "text": [
            "Computing batch means: 100%|██████████| 203658/203658 [00:26<00:00, 7656.13it/s]\n",
            "100%|██████████| 1000/1000 [00:03<00:00, 285.85it/s]\n"
          ]
        },
        {
          "output_type": "stream",
          "name": "stdout",
          "text": [
            "N_iters= 204800 b_n= 1142 est_cov_int= 0.935 assymp_cov_int= 0.945 dist_sigmas= 0.21053461382646588\n"
          ]
        },
        {
          "output_type": "stream",
          "name": "stderr",
          "text": [
            "Computing batch means: 100%|██████████| 203615/203615 [00:25<00:00, 7860.42it/s]\n",
            "100%|██████████| 1000/1000 [00:03<00:00, 278.93it/s]\n"
          ]
        },
        {
          "output_type": "stream",
          "name": "stdout",
          "text": [
            "N_iters= 204800 b_n= 1185 est_cov_int= 0.935 assymp_cov_int= 0.945 dist_sigmas= 0.21088753566405502\n"
          ]
        },
        {
          "output_type": "stream",
          "name": "stderr",
          "text": [
            "Computing batch means: 100%|██████████| 203572/203572 [00:26<00:00, 7764.32it/s]\n",
            "100%|██████████| 1000/1000 [00:03<00:00, 286.87it/s]\n"
          ]
        },
        {
          "output_type": "stream",
          "name": "stdout",
          "text": [
            "N_iters= 204800 b_n= 1228 est_cov_int= 0.935 assymp_cov_int= 0.945 dist_sigmas= 0.21160192788106283\n"
          ]
        },
        {
          "output_type": "stream",
          "name": "stderr",
          "text": [
            "Computing batch means: 100%|██████████| 203529/203529 [00:25<00:00, 7853.50it/s]\n",
            "100%|██████████| 1000/1000 [00:03<00:00, 285.69it/s]\n"
          ]
        },
        {
          "output_type": "stream",
          "name": "stdout",
          "text": [
            "N_iters= 204800 b_n= 1271 est_cov_int= 0.934 assymp_cov_int= 0.945 dist_sigmas= 0.21276755879638437\n"
          ]
        },
        {
          "output_type": "stream",
          "name": "stderr",
          "text": [
            "Computing batch means: 100%|██████████| 203486/203486 [00:27<00:00, 7443.88it/s]\n",
            "100%|██████████| 1000/1000 [00:03<00:00, 272.88it/s]\n"
          ]
        },
        {
          "output_type": "stream",
          "name": "stdout",
          "text": [
            "N_iters= 204800 b_n= 1314 est_cov_int= 0.934 assymp_cov_int= 0.945 dist_sigmas= 0.21413534265561399\n"
          ]
        },
        {
          "output_type": "stream",
          "name": "stderr",
          "text": [
            "Computing batch means: 100%|██████████| 203443/203443 [00:24<00:00, 8450.50it/s]\n",
            "100%|██████████| 1000/1000 [00:03<00:00, 279.36it/s]\n"
          ]
        },
        {
          "output_type": "stream",
          "name": "stdout",
          "text": [
            "N_iters= 204800 b_n= 1357 est_cov_int= 0.935 assymp_cov_int= 0.945 dist_sigmas= 0.2157218076141351\n"
          ]
        },
        {
          "output_type": "stream",
          "name": "stderr",
          "text": [
            "Computing batch means: 100%|██████████| 203400/203400 [00:26<00:00, 7600.14it/s]\n",
            "100%|██████████| 1000/1000 [00:03<00:00, 290.44it/s]"
          ]
        },
        {
          "output_type": "stream",
          "name": "stdout",
          "text": [
            "N_iters= 204800 b_n= 1400 est_cov_int= 0.935 assymp_cov_int= 0.945 dist_sigmas= 0.21744963006275012\n"
          ]
        },
        {
          "output_type": "stream",
          "name": "stderr",
          "text": [
            "\n"
          ]
        }
      ],
      "source": [
        "from scipy.stats import norm\n",
        "np.random.seed(2024)\n",
        "#generate random direction\n",
        "U = np.random.randn(d)\n",
        "u = U/np.linalg.norm(U)\n",
        "sigma_u = u.T @ Sigma_inf @ u\n",
        "cov_ints = []\n",
        "cov_true_ints = []\n",
        "dist_cov = []\n",
        "for b_n in np.linspace(800, 1400, num=15):\n",
        "  b_n = int(b_n)\n",
        "  BM_V = batch_mean(PR_V, b_n, N_traj, N_iters)\n",
        "  cov_int = 0\n",
        "  cov_true_int = 0\n",
        "  dist_cov_i = []\n",
        "  sum_s = 0\n",
        "  for i in tqdm(range(N_traj)):\n",
        "    hat_sigma =  (((BM_V[i]-hatV[i])@u)**2).sum() * ((b_n)/(N_iters-b_n+1))\n",
        "    dist_cov_i.append(np.abs(hat_sigma-sigma_u))\n",
        "    (a, b) = norm.interval(confidence=0.95, loc=hatV[i]@u, scale=np.sqrt(hat_sigma)/np.sqrt(N_iters))\n",
        "    if (theta_star@u <= b) & (theta_star@u >= a):\n",
        "      cov_int += 1\n",
        "    (a, b) = norm.interval(confidence=0.95, loc=hatV[i]@u, scale=np.sqrt(sigma_u)/np.sqrt(N_iters))\n",
        "    if (theta_star@u <= b) & (theta_star@u >= a):\n",
        "      cov_true_int += 1\n",
        "  cov_ints.append(cov_int/N_traj)\n",
        "  cov_true_ints.append(cov_true_int/N_traj)\n",
        "  dist_cov.append(np.array(dist_cov_i))\n",
        "  print('N_iters=', N_iters, \"b_n=\", b_n, \"est_cov_int=\", cov_ints[-1], \"assymp_cov_int=\", cov_true_ints[-1], \"dist_sigmas=\", np.array(dist_cov_i).sum()/N_traj)"
      ]
    }
  ],
  "metadata": {
    "kernelspec": {
      "display_name": "Python 3",
      "name": "python3"
    },
    "language_info": {
      "codemirror_mode": {
        "name": "ipython",
        "version": 3
      },
      "file_extension": ".py",
      "mimetype": "text/x-python",
      "name": "python",
      "nbconvert_exporter": "python",
      "pygments_lexer": "ipython3",
      "version": "3.9.15"
    },
    "colab": {
      "provenance": [],
      "machine_shape": "hm"
    }
  },
  "nbformat": 4,
  "nbformat_minor": 0
}